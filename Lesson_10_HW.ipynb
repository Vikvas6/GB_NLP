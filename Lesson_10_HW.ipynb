{
 "cells": [
  {
   "cell_type": "code",
   "execution_count": 1,
   "metadata": {},
   "outputs": [],
   "source": [
    "# -- coding: utf-8 -"
   ]
  },
  {
   "cell_type": "code",
   "execution_count": 2,
   "metadata": {},
   "outputs": [],
   "source": [
    "from telegram.ext  import Updater, CommandHandler, MessageHandler, Filters\n",
    "import dialogflow\n",
    "import os\n",
    "import json\n",
    "\n",
    "import requests"
   ]
  },
  {
   "cell_type": "code",
   "execution_count": 5,
   "metadata": {},
   "outputs": [],
   "source": [
    "with open('api_keys.txt', 'r') as f:\n",
    "    api_keys = json.load(f)"
   ]
  },
  {
   "cell_type": "code",
   "execution_count": 6,
   "metadata": {},
   "outputs": [
    {
     "name": "stderr",
     "output_type": "stream",
     "text": [
      "<ipython-input-6-0d7f237f5363>:1: TelegramDeprecationWarning: Old Handler API is deprecated - see https://git.io/fxJuV for details\n",
      "  updater = Updater(token=api_keys[\"telegramm_api\"]) # Токен API к Telegram\n"
     ]
    }
   ],
   "source": [
    "updater = Updater(token=api_keys[\"telegramm_api\"]) # Токен API к Telegram\n",
    "dispatcher = updater.dispatcher"
   ]
  },
  {
   "cell_type": "code",
   "execution_count": 7,
   "metadata": {},
   "outputs": [],
   "source": [
    "os.environ[\"GOOGLE_APPLICATION_CREDENTIALS\"] = 'gb-nlp-vv-0310-xqwh-d9d05c2c5bbd.json'# скачнный JSON\n",
    "\n",
    "DIALOGFLOW_PROJECT_ID = 'gb-nlp-vv-0310-xqwh' #PROJECT ID из DialogFlow \n",
    "DIALOGFLOW_LANGUAGE_CODE = 'ru' # язык\n",
    "SESSION_ID = 'GB_NLP_VV_0310_bot'  # ID бота из телеграма"
   ]
  },
  {
   "cell_type": "code",
   "execution_count": 8,
   "metadata": {},
   "outputs": [],
   "source": [
    "def getWeatherByCity(city):\n",
    "    url = \"https://community-open-weather-map.p.rapidapi.com/weather\"\n",
    "\n",
    "    querystring = {\"units\":\"metric\",\n",
    "                   \"lang\":\"ru\",\n",
    "                   \"q\":city}\n",
    "\n",
    "    headers = {\n",
    "        'x-rapidapi-host': \"community-open-weather-map.p.rapidapi.com\",\n",
    "        'x-rapidapi-key': api_keys[\"open_weather_api\"]\n",
    "        }\n",
    "\n",
    "    response = requests.request(\"GET\", url, headers=headers, params=querystring)    \n",
    "    response_json = response.json()\n",
    "    \n",
    "    result_text = f\"Погода в городе {city}: температура {response_json['main']['temp']}\"\n",
    "    weather = response_json[\"weather\"]\n",
    "    for w in weather:\n",
    "        result_text += f\" и {w['description']}\"\n",
    "    return result_text"
   ]
  },
  {
   "cell_type": "code",
   "execution_count": 9,
   "metadata": {},
   "outputs": [],
   "source": [
    "def startCommand(bot, update):\n",
    "    bot.send_message(chat_id=update.message.chat_id, text='Добрый день')\n",
    "    \n",
    "def textMessage(bot, update):\n",
    "    \n",
    "    session_client = dialogflow.SessionsClient()\n",
    "    session = session_client.session_path(DIALOGFLOW_PROJECT_ID, SESSION_ID)\n",
    "    \n",
    "    text_input = dialogflow.types.TextInput(text=update.message.text, language_code=DIALOGFLOW_LANGUAGE_CODE)\n",
    "    query_input = dialogflow.types.QueryInput(text=text_input)\n",
    "    try:\n",
    "        response = session_client.detect_intent(session=session, query_input=query_input)\n",
    "    except InvalidArgument:\n",
    "         raise\n",
    "    \n",
    "    if response.query_result.intent.display_name == \"Intent_Weather\":\n",
    "        city = response.query_result.parameters[\"location\"][\"city\"]\n",
    "        text = getWeatherByCity(city)\n",
    "        bot.send_message(chat_id=update.message.chat_id, text=text)\n",
    "    else:            \n",
    "        text = response.query_result.fulfillment_text\n",
    "        if text:\n",
    "            bot.send_message(chat_id=update.message.chat_id, text=text)\n",
    "        else:\n",
    "            bot.send_message(chat_id=update.message.chat_id, text='что?')"
   ]
  },
  {
   "cell_type": "code",
   "execution_count": null,
   "metadata": {},
   "outputs": [],
   "source": [
    "start_command_handler = CommandHandler('start', startCommand)\n",
    "text_message_handler = MessageHandler(Filters.text, textMessage)\n",
    "\n",
    "dispatcher.add_handler(start_command_handler)\n",
    "dispatcher.add_handler(text_message_handler)\n",
    "\n",
    "updater.start_polling(clean=True)\n",
    "updater.idle()"
   ]
  },
  {
   "cell_type": "code",
   "execution_count": null,
   "metadata": {},
   "outputs": [],
   "source": []
  }
 ],
 "metadata": {
  "kernelspec": {
   "display_name": "Python 3",
   "language": "python",
   "name": "python3"
  },
  "language_info": {
   "codemirror_mode": {
    "name": "ipython",
    "version": 3
   },
   "file_extension": ".py",
   "mimetype": "text/x-python",
   "name": "python",
   "nbconvert_exporter": "python",
   "pygments_lexer": "ipython3",
   "version": "3.8.3"
  }
 },
 "nbformat": 4,
 "nbformat_minor": 4
}
